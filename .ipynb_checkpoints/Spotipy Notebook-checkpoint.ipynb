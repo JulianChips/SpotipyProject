{
 "cells": [
  {
   "cell_type": "code",
   "execution_count": null,
   "metadata": {},
   "outputs": [],
   "source": [
    "#! pip install spotipy"
   ]
  },
  {
   "cell_type": "code",
   "execution_count": 1,
   "metadata": {},
   "outputs": [],
   "source": [
    "import spotipy\n",
    "from api_keys import client_id, client_secret"
   ]
  },
  {
   "cell_type": "code",
   "execution_count": 2,
   "metadata": {},
   "outputs": [],
   "source": [
    "from spotipy.oauth2 import SpotifyClientCredentials"
   ]
  },
  {
   "cell_type": "code",
   "execution_count": 3,
   "metadata": {},
   "outputs": [],
   "source": [
    "client_credentials_manager = SpotifyClientCredentials(client_id,client_secret)"
   ]
  },
  {
   "cell_type": "code",
   "execution_count": 4,
   "metadata": {},
   "outputs": [],
   "source": [
    "spotify = spotipy.Spotify(client_credentials_manager=client_credentials_manager)"
   ]
  },
  {
   "cell_type": "code",
   "execution_count": 7,
   "metadata": {},
   "outputs": [],
   "source": [
    "def get_artist(name):\n",
    "    results = spotify.search(q='artist:' + name, type='artist')\n",
    "    return results"
   ]
  },
  {
   "cell_type": "code",
   "execution_count": 8,
   "metadata": {},
   "outputs": [
    {
     "name": "stdout",
     "output_type": "stream",
     "text": [
      "{'artists': {'href': 'https://api.spotify.com/v1/search?query=artist%3ASZA&type=artist&offset=0&limit=10', 'items': [{'external_urls': {'spotify': 'https://open.spotify.com/artist/7tYKF4w9nC0nq9CsPZTHyP'}, 'followers': {'href': None, 'total': 2431636}, 'genres': ['hip hop', 'pop', 'pop rap', 'r&b', 'rap'], 'href': 'https://api.spotify.com/v1/artists/7tYKF4w9nC0nq9CsPZTHyP', 'id': '7tYKF4w9nC0nq9CsPZTHyP', 'images': [{'height': 640, 'url': 'https://i.scdn.co/image/e1e46c441024525643a19402b3a12188de219420', 'width': 640}, {'height': 320, 'url': 'https://i.scdn.co/image/5e23d0ad32a6f75db6b3666082d0a8e60132ddd9', 'width': 320}, {'height': 160, 'url': 'https://i.scdn.co/image/92512e953dcac544a48dc9a3e331725ea65ccff2', 'width': 160}], 'name': 'SZA', 'popularity': 82, 'type': 'artist', 'uri': 'spotify:artist:7tYKF4w9nC0nq9CsPZTHyP'}, {'external_urls': {'spotify': 'https://open.spotify.com/artist/4bW8VDd70VihiuSdxvf1oD'}, 'followers': {'href': None, 'total': 0}, 'genres': [], 'href': 'https://api.spotify.com/v1/artists/4bW8VDd70VihiuSdxvf1oD', 'id': '4bW8VDd70VihiuSdxvf1oD', 'images': [], 'name': 'SZA PSB', 'popularity': 0, 'type': 'artist', 'uri': 'spotify:artist:4bW8VDd70VihiuSdxvf1oD'}, {'external_urls': {'spotify': 'https://open.spotify.com/artist/6ZkOo3pfqIG0TIYYWhxNc3'}, 'followers': {'href': None, 'total': 1}, 'genres': [], 'href': 'https://api.spotify.com/v1/artists/6ZkOo3pfqIG0TIYYWhxNc3', 'id': '6ZkOo3pfqIG0TIYYWhxNc3', 'images': [], 'name': 'Ju-Sza', 'popularity': 0, 'type': 'artist', 'uri': 'spotify:artist:6ZkOo3pfqIG0TIYYWhxNc3'}, {'external_urls': {'spotify': 'https://open.spotify.com/artist/2aXOLK7ksqHecxcSOxXCGL'}, 'followers': {'href': None, 'total': 1}, 'genres': [], 'href': 'https://api.spotify.com/v1/artists/2aXOLK7ksqHecxcSOxXCGL', 'id': '2aXOLK7ksqHecxcSOxXCGL', 'images': [{'height': 640, 'url': 'https://i.scdn.co/image/99b35a6b6ab978b450c2ace81c8a6d701b082a10', 'width': 640}, {'height': 300, 'url': 'https://i.scdn.co/image/14016b18de825dc9c2ed10c5d469c22746a5a6a9', 'width': 300}, {'height': 64, 'url': 'https://i.scdn.co/image/a519481c68149664d24f14ac82f817d9d21a18cb', 'width': 64}], 'name': 'Victor SZA Ferreira', 'popularity': 0, 'type': 'artist', 'uri': 'spotify:artist:2aXOLK7ksqHecxcSOxXCGL'}, {'external_urls': {'spotify': 'https://open.spotify.com/artist/5NIe5p2mDVjWUp1vbZLoJ4'}, 'followers': {'href': None, 'total': 2}, 'genres': [], 'href': 'https://api.spotify.com/v1/artists/5NIe5p2mDVjWUp1vbZLoJ4', 'id': '5NIe5p2mDVjWUp1vbZLoJ4', 'images': [], 'name': 'SzÃ©csi Saci', 'popularity': 1, 'type': 'artist', 'uri': 'spotify:artist:5NIe5p2mDVjWUp1vbZLoJ4'}], 'limit': 10, 'next': None, 'offset': 0, 'previous': None, 'total': 5}}\n"
     ]
    }
   ],
   "source": [
    "print(get_artist(\"SZA\"))"
   ]
  },
  {
   "cell_type": "code",
   "execution_count": null,
   "metadata": {},
   "outputs": [],
   "source": []
  }
 ],
 "metadata": {
  "kernelspec": {
   "display_name": "Python 3",
   "language": "python",
   "name": "python3"
  },
  "language_info": {
   "codemirror_mode": {
    "name": "ipython",
    "version": 3
   },
   "file_extension": ".py",
   "mimetype": "text/x-python",
   "name": "python",
   "nbconvert_exporter": "python",
   "pygments_lexer": "ipython3",
   "version": "3.7.0"
  }
 },
 "nbformat": 4,
 "nbformat_minor": 2
}
