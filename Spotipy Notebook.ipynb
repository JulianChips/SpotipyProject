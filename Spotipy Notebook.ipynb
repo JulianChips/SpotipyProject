{
 "cells": [
  {
   "cell_type": "code",
   "execution_count": 1,
   "metadata": {},
   "outputs": [],
   "source": [
    "#Install package for Spotipy wrapper\n",
    "#! pip install spotipy"
   ]
  },
  {
   "cell_type": "code",
   "execution_count": 2,
   "metadata": {},
   "outputs": [],
   "source": [
    "#import dependencies\n",
    "import spotipy\n",
    "import json\n",
    "from api_keys import client_id, client_secret"
   ]
  },
  {
   "cell_type": "code",
   "execution_count": 3,
   "metadata": {},
   "outputs": [],
   "source": [
    "from spotipy.oauth2 import SpotifyClientCredentials"
   ]
  },
  {
   "cell_type": "code",
   "execution_count": 4,
   "metadata": {},
   "outputs": [],
   "source": [
    "#Pass keys into credentials manager for the Spotify Web API\n",
    "client_credentials_manager = SpotifyClientCredentials(client_id,client_secret)"
   ]
  },
  {
   "cell_type": "code",
   "execution_count": 5,
   "metadata": {},
   "outputs": [],
   "source": [
    "#Generate Instance of the spotipy.Spotify class\n",
    "spotify = spotipy.Spotify(client_credentials_manager=client_credentials_manager)"
   ]
  },
  {
   "cell_type": "code",
   "execution_count": 6,
   "metadata": {},
   "outputs": [],
   "source": [
    "# import spotipy.util as util"
   ]
  },
  {
   "cell_type": "code",
   "execution_count": 7,
   "metadata": {},
   "outputs": [],
   "source": [
    "# spotify.current_user()"
   ]
  },
  {
   "cell_type": "code",
   "execution_count": 8,
   "metadata": {},
   "outputs": [],
   "source": [
    "#Get search results for Kendrick Lamar\n",
    "results = spotify.search('Kendrick Lamar',type='artist')"
   ]
  },
  {
   "cell_type": "code",
   "execution_count": 9,
   "metadata": {},
   "outputs": [],
   "source": [
    "# print(json.dumps(results,indent=4))"
   ]
  },
  {
   "cell_type": "code",
   "execution_count": 10,
   "metadata": {},
   "outputs": [],
   "source": [
    "#Get top result of search\n",
    "top_result = results.get(\"artists\")[\"items\"][0]"
   ]
  },
  {
   "cell_type": "code",
   "execution_count": 11,
   "metadata": {},
   "outputs": [
    {
     "name": "stdout",
     "output_type": "stream",
     "text": [
      "\"spotify:artist:2YZyLoL8N0Wb9xBt1NhZWg\"\n"
     ]
    }
   ],
   "source": [
    "print(json.dumps(top_result[\"uri\"],indent=4,sort_keys=True))"
   ]
  },
  {
   "cell_type": "code",
   "execution_count": 12,
   "metadata": {},
   "outputs": [],
   "source": [
    "#Get albums given artist uri from search\n",
    "kendrick_albums = spotify.artist_albums(top_result[\"uri\"],album_type=\"album\")"
   ]
  },
  {
   "cell_type": "code",
   "execution_count": 13,
   "metadata": {},
   "outputs": [],
   "source": [
    "#print albums by Kendrick Lamar\n",
    "# print(json.dumps(kendrick_albums,indent=4))"
   ]
  },
  {
   "cell_type": "code",
   "execution_count": 14,
   "metadata": {},
   "outputs": [],
   "source": [
    "#Get the album To Pimp A Butterfly\n",
    "TPAB = kendrick_albums.get(\"items\")[10]"
   ]
  },
  {
   "cell_type": "code",
   "execution_count": 15,
   "metadata": {},
   "outputs": [],
   "source": [
    "# print(json.dumps(TPAB,indent=4))"
   ]
  },
  {
   "cell_type": "code",
   "execution_count": 16,
   "metadata": {},
   "outputs": [
    {
     "data": {
      "text/plain": [
       "'spotify:album:7ycBtnsMtyVbbwTfJwRjSP'"
      ]
     },
     "execution_count": 16,
     "metadata": {},
     "output_type": "execute_result"
    }
   ],
   "source": [
    "TPAB.get(\"uri\")"
   ]
  },
  {
   "cell_type": "code",
   "execution_count": 17,
   "metadata": {},
   "outputs": [],
   "source": [
    "#Get list of tracks on the tpab album\n",
    "tpab_tracks = spotify.album_tracks(TPAB.get(\"uri\"))[\"items\"]"
   ]
  },
  {
   "cell_type": "code",
   "execution_count": 18,
   "metadata": {},
   "outputs": [],
   "source": [
    "# print(json.dumps(tpab_tracks[1],indent=4))"
   ]
  },
  {
   "cell_type": "code",
   "execution_count": 19,
   "metadata": {},
   "outputs": [],
   "source": [
    "#Get the features inherent in the sound of the song For Free? - Interlude\n",
    "For_Free_features = spotify.audio_features(tpab_tracks[1][\"uri\"])"
   ]
  },
  {
   "cell_type": "code",
   "execution_count": 20,
   "metadata": {},
   "outputs": [
    {
     "name": "stdout",
     "output_type": "stream",
     "text": [
      "[\n",
      "    {\n",
      "        \"danceability\": 0.526,\n",
      "        \"energy\": 0.896,\n",
      "        \"key\": 8,\n",
      "        \"loudness\": -4.708,\n",
      "        \"mode\": 1,\n",
      "        \"speechiness\": 0.197,\n",
      "        \"acousticness\": 0.588,\n",
      "        \"instrumentalness\": 0,\n",
      "        \"liveness\": 0.37,\n",
      "        \"valence\": 0.745,\n",
      "        \"tempo\": 129.313,\n",
      "        \"type\": \"audio_features\",\n",
      "        \"id\": \"75izAeHlGuOgA865CFDyIv\",\n",
      "        \"uri\": \"spotify:track:75izAeHlGuOgA865CFDyIv\",\n",
      "        \"track_href\": \"https://api.spotify.com/v1/tracks/75izAeHlGuOgA865CFDyIv\",\n",
      "        \"analysis_url\": \"https://api.spotify.com/v1/audio-analysis/75izAeHlGuOgA865CFDyIv\",\n",
      "        \"duration_ms\": 130893,\n",
      "        \"time_signature\": 1\n",
      "    }\n",
      "]\n"
     ]
    }
   ],
   "source": [
    "#print these features\n",
    "print(json.dumps(For_Free_features,indent=4))"
   ]
  },
  {
   "cell_type": "code",
   "execution_count": 22,
   "metadata": {},
   "outputs": [
    {
     "data": {
      "text/plain": [
       "1"
      ]
     },
     "execution_count": 22,
     "metadata": {},
     "output_type": "execute_result"
    }
   ],
   "source": [
    "For_Free_features[0].get(\"mode\")"
   ]
  },
  {
   "cell_type": "code",
   "execution_count": null,
   "metadata": {},
   "outputs": [],
   "source": []
  }
 ],
 "metadata": {
  "kernelspec": {
   "display_name": "Python 3",
   "language": "python",
   "name": "python3"
  },
  "language_info": {
   "codemirror_mode": {
    "name": "ipython",
    "version": 3
   },
   "file_extension": ".py",
   "mimetype": "text/x-python",
   "name": "python",
   "nbconvert_exporter": "python",
   "pygments_lexer": "ipython3",
   "version": "3.7.0"
  }
 },
 "nbformat": 4,
 "nbformat_minor": 2
}
